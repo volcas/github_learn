{
 "cells": [
  {
   "cell_type": "code",
   "execution_count": 1,
   "metadata": {},
   "outputs": [
    {
     "name": "stdout",
     "output_type": "stream",
     "text": [
      "   match_code        date         city         venue                  team1  \\\n",
      "0      392203  2009-05-01  East London  Buffalo Park  Kolkata Knight Riders   \n",
      "1      392203  2009-05-01  East London  Buffalo Park  Kolkata Knight Riders   \n",
      "2      392203  2009-05-01  East London  Buffalo Park  Kolkata Knight Riders   \n",
      "3      392203  2009-05-01  East London  Buffalo Park  Kolkata Knight Riders   \n",
      "4      392203  2009-05-01  East London  Buffalo Park  Kolkata Knight Riders   \n",
      "\n",
      "            team2     toss_winner toss_decision          winner win_type  \\\n",
      "0  Mumbai Indians  Mumbai Indians           bat  Mumbai Indians     runs   \n",
      "1  Mumbai Indians  Mumbai Indians           bat  Mumbai Indians     runs   \n",
      "2  Mumbai Indians  Mumbai Indians           bat  Mumbai Indians     runs   \n",
      "3  Mumbai Indians  Mumbai Indians           bat  Mumbai Indians     runs   \n",
      "4  Mumbai Indians  Mumbai Indians           bat  Mumbai Indians     runs   \n",
      "\n",
      "        ...               batsman    non_striker    bowler runs extras total  \\\n",
      "0       ...         ST Jayasuriya   SR Tendulkar  I Sharma    0      1     1   \n",
      "1       ...         ST Jayasuriya   SR Tendulkar  I Sharma    1      0     1   \n",
      "2       ...          SR Tendulkar  ST Jayasuriya  I Sharma    0      1     1   \n",
      "3       ...          SR Tendulkar  ST Jayasuriya  I Sharma    0      0     0   \n",
      "4       ...          SR Tendulkar  ST Jayasuriya  I Sharma    2      0     2   \n",
      "\n",
      "  extras_type  player_out  wicket_kind  wicket_fielders  \n",
      "0       wides         NaN          NaN              NaN  \n",
      "1         NaN         NaN          NaN              NaN  \n",
      "2       wides         NaN          NaN              NaN  \n",
      "3         NaN         NaN          NaN              NaN  \n",
      "4         NaN         NaN          NaN              NaN  \n",
      "\n",
      "[5 rows x 24 columns]\n"
     ]
    }
   ],
   "source": [
    "import pandas as pd\n",
    "path='ipl_dataset.csv'\n",
    "data=pd.read_csv(path)\n",
    "\n",
    "print(data.head(5))\n",
    "\n",
    "print(data.head(10))\n",
    "\n",
    "print(data.head(5))"
   ]
  },
  {
   "cell_type": "code",
   "execution_count": 5,
   "metadata": {},
   "outputs": [
    {
     "data": {
      "text/plain": [
       "30"
      ]
     },
     "execution_count": 5,
     "metadata": {},
     "output_type": "execute_result"
    }
   ],
   "source": [
    "D={'A':25, 'B':30}\n",
    "D[max(D)]"
   ]
  },
  {
   "cell_type": "code",
   "execution_count": null,
   "metadata": {},
   "outputs": [],
   "source": []
  }
 ],
 "metadata": {
  "kernelspec": {
   "display_name": "Python 3",
   "language": "python",
   "name": "python3"
  },
  "language_info": {
   "codemirror_mode": {
    "name": "ipython",
    "version": 3
   },
   "file_extension": ".py",
   "mimetype": "text/x-python",
   "name": "python",
   "nbconvert_exporter": "python",
   "pygments_lexer": "ipython3",
   "version": "3.7.6"
  }
 },
 "nbformat": 4,
 "nbformat_minor": 2
}
